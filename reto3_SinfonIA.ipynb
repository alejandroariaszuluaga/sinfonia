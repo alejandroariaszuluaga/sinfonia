{
  "nbformat": 4,
  "nbformat_minor": 0,
  "metadata": {
    "colab": {
      "name": "reto3_SinfonIA.ipynb",
      "provenance": [],
      "mount_file_id": "17UJggkYHGAZxPMqTgmAbUIBOzG6_M_yH",
      "authorship_tag": "ABX9TyOuPTrRv0+a4wmMtpO2bTUv",
      "include_colab_link": true
    },
    "kernelspec": {
      "name": "python3",
      "display_name": "Python 3"
    }
  },
  "cells": [
    {
      "cell_type": "markdown",
      "metadata": {
        "id": "view-in-github",
        "colab_type": "text"
      },
      "source": [
        "<a href=\"https://colab.research.google.com/github/alejandroariaszuluaga/sinfonia/blob/master/reto3_SinfonIA.ipynb\" target=\"_parent\"><img src=\"https://colab.research.google.com/assets/colab-badge.svg\" alt=\"Open In Colab\"/></a>"
      ]
    },
    {
      "cell_type": "markdown",
      "metadata": {
        "id": "KmZkbUfUtxml",
        "colab_type": "text"
      },
      "source": [
        "# **Reto 3: Convocatoria SinfonÍA**\n",
        "\n",
        "**Autor:** Alejandro Arias\n",
        "\n",
        "**Código:** 201711999\n",
        "\n",
        "**Correo de contacto:** a.ariasz@uniandes.edu.co"
      ]
    },
    {
      "cell_type": "markdown",
      "metadata": {
        "id": "7qKEmwZkuDTa",
        "colab_type": "text"
      },
      "source": [
        "A continuación se implementan principalmente dos alternativas para resolver el siguiente problema de clasificación binaria:\n",
        "\n",
        "> Desarrollar un modelo que reciba un vector de características y retorne la etiqueta, indicando si hay o no una persona.\n",
        "\n",
        "A continuación se importan los datos necesarios, los cuales fueron obtenidos desde el repositorio: https://github.com/carolinahiguera/ConvocatoriaSinfonIAUniandes.git\n"
      ]
    },
    {
      "cell_type": "code",
      "metadata": {
        "id": "BYAQeExm3jXX",
        "colab_type": "code",
        "colab": {
          "base_uri": "https://localhost:8080/",
          "height": 34
        },
        "outputId": "d1b15b32-090f-467c-a7f2-3b0f2f61f38b"
      },
      "source": [
        "from google.colab import drive\n",
        "drive.mount('/content/drive')\n",
        "\n",
        "import pandas as pd\n",
        "import numpy as np\n",
        "\n",
        "import matplotlib.pyplot as plt\n",
        "from tqdm import tqdm\n",
        "\n",
        "from sklearn.model_selection import train_test_split\n",
        "from sklearn.linear_model import LogisticRegression\n",
        "\n",
        "from sklearn.metrics import accuracy_score\n",
        "from sklearn.neural_network import MLPClassifier"
      ],
      "execution_count": 1,
      "outputs": [
        {
          "output_type": "stream",
          "text": [
            "Drive already mounted at /content/drive; to attempt to forcibly remount, call drive.mount(\"/content/drive\", force_remount=True).\n"
          ],
          "name": "stdout"
        }
      ]
    },
    {
      "cell_type": "code",
      "metadata": {
        "id": "zFrrOr8d5Y1a",
        "colab_type": "code",
        "colab": {}
      },
      "source": [
        "cols = ['x1', 'x2', 'x3', 'x4', 'x5', 'x6', 'x7', 'x8', 'x9', 'x10', 'x11', 'x12', 'x13', 'x14', 'x15', 'x16', 'x17', 'x18', 'x19', 'x20', 'x21', 'x22', 'x23', 'x24', 'x25', 'x26', 'x27', 'x28']\n",
        "\n",
        "xTrain_df = pd.read_csv('/content/drive/My Drive/ConvocatoriaSinfonIAUniandes/reto3/DataTrain.csv', names=cols)\n",
        "yTrain_df = pd.read_csv('/content/drive/My Drive/ConvocatoriaSinfonIAUniandes/reto3/LabelsTrain.csv', names=['y'])\n",
        "\n",
        "xTrain, xVal, yTrain, yVal = train_test_split(xTrain_df.values, yTrain_df.values, test_size = 0.2)\n",
        "yTrain = np.ravel(yTrain)\n",
        "yVal = np.ravel(yVal)"
      ],
      "execution_count": 2,
      "outputs": []
    },
    {
      "cell_type": "markdown",
      "metadata": {
        "id": "YFaVKOIGvLnS",
        "colab_type": "text"
      },
      "source": [
        "# Regresión Logística\n",
        "\n",
        "En primer lugar, se realizó una prueba preliminar aplicando un modelo de regresión logística."
      ]
    },
    {
      "cell_type": "code",
      "metadata": {
        "id": "LNyWur3l-WNE",
        "colab_type": "code",
        "colab": {
          "base_uri": "https://localhost:8080/",
          "height": 168
        },
        "outputId": "61e37266-8319-4e2d-a390-a57e5f28fce6"
      },
      "source": [
        "clf = LogisticRegression(class_weight='balanced')\n",
        "clf.fit(xTrain, yTrain)\n",
        "clf.score(xVal, yVal)"
      ],
      "execution_count": 3,
      "outputs": [
        {
          "output_type": "stream",
          "text": [
            "/usr/local/lib/python3.6/dist-packages/sklearn/linear_model/_logistic.py:940: ConvergenceWarning: lbfgs failed to converge (status=1):\n",
            "STOP: TOTAL NO. of ITERATIONS REACHED LIMIT.\n",
            "\n",
            "Increase the number of iterations (max_iter) or scale the data as shown in:\n",
            "    https://scikit-learn.org/stable/modules/preprocessing.html\n",
            "Please also refer to the documentation for alternative solver options:\n",
            "    https://scikit-learn.org/stable/modules/linear_model.html#logistic-regression\n",
            "  extra_warning_msg=_LOGISTIC_SOLVER_CONVERGENCE_MSG)\n"
          ],
          "name": "stderr"
        },
        {
          "output_type": "execute_result",
          "data": {
            "text/plain": [
              "0.9047783933518005"
            ]
          },
          "metadata": {
            "tags": []
          },
          "execution_count": 3
        }
      ]
    },
    {
      "cell_type": "markdown",
      "metadata": {
        "id": "OQyLlCXKvY0f",
        "colab_type": "text"
      },
      "source": [
        "# **Redes Neuronales**\n",
        "\n",
        "Posteriormente, se probaron varias arquitecturas de redes neuronales, tomando un rango desde 2 hasta 200 neuronas por cada capa. Igualmente, se analizó un rango desde 2 hasta 5 capas escondidas.\n",
        "\n",
        "Se utilizaron los parámetros:\n",
        "\n",
        "*   Función de activación: ReLu\n",
        "*   Optimizador: *Adam*\n"
      ]
    },
    {
      "cell_type": "code",
      "metadata": {
        "id": "GTZHPiPGRnzX",
        "colab_type": "code",
        "colab": {
          "base_uri": "https://localhost:8080/",
          "height": 70
        },
        "outputId": "a49c0159-7831-4cff-911e-7cd5b4742459"
      },
      "source": [
        "from sklearn.utils.testing import ignore_warnings\n",
        "from sklearn.exceptions import ConvergenceWarning\n",
        "\n",
        "@ignore_warnings(category=ConvergenceWarning)\n",
        "\n",
        "def red_neuronal(xTrain, yTrain, xVal, yVal, n, capas):\n",
        "  \n",
        "  clf = MLPClassifier(activation='relu', solver='sgd', hidden_layer_sizes=(n,capas))\n",
        "  clf.fit(xTrain, yTrain)\n",
        "  \n",
        "  pred_val_Y = clf.predict(xVal)\n",
        "  pred_train_Y = clf.predict(xTrain)\n",
        "  \n",
        "  train_ac = accuracy_score(yTrain, pred_train_Y)\n",
        "  val_ac = accuracy_score(yVal, pred_val_Y)\n",
        "  return val_ac, train_ac"
      ],
      "execution_count": 4,
      "outputs": [
        {
          "output_type": "stream",
          "text": [
            "/usr/local/lib/python3.6/dist-packages/sklearn/utils/deprecation.py:144: FutureWarning: The sklearn.utils.testing module is  deprecated in version 0.22 and will be removed in version 0.24. The corresponding classes / functions should instead be imported from sklearn.utils. Anything that cannot be imported from sklearn.utils is now part of the private API.\n",
            "  warnings.warn(message, FutureWarning)\n"
          ],
          "name": "stderr"
        }
      ]
    },
    {
      "cell_type": "markdown",
      "metadata": {
        "id": "QTMYW9DcrC2q",
        "colab_type": "text"
      },
      "source": [
        "**Red Neuronal 2 Capas**"
      ]
    },
    {
      "cell_type": "code",
      "metadata": {
        "id": "khfP-2qkIKQl",
        "colab_type": "code",
        "colab": {
          "base_uri": "https://localhost:8080/",
          "height": 350
        },
        "outputId": "c2932782-3dba-4062-c01f-dea1bc14c585"
      },
      "source": [
        "Nmin = 2\n",
        "Nmax = 100\n",
        "capas = 2\n",
        "n_max_ac = 0\n",
        "max_ac = 0\n",
        "vector_val_ac = []\n",
        "vector_train_ac = []\n",
        "for n in tqdm(range(Nmin,Nmax)):\n",
        "  val_ac, train_ac = red_neuronal(xTrain, yTrain, xVal, yVal, n, capas)\n",
        "  \n",
        "  vector_train_ac.append(train_ac)\n",
        "  vector_val_ac.append(val_ac)\n",
        "  if val_ac>max_ac:\n",
        "    max_ac = val_ac\n",
        "    n_max_ac = n\n",
        "    \n",
        "print(\"Precisión a partir de un entrenamiento con:\")\n",
        "print(\"->\",n_max_ac,\"neuronas. Validación:\", max_ac)\n",
        "\n",
        "fig, ax = plt.subplots()\n",
        "ax.plot(range(Nmin,Nmax), vector_val_ac, label='Validación')\n",
        "ax.plot(range(Nmin,Nmax), vector_train_ac, label='Entrenamiento')\n",
        "leg = ax.legend();\n",
        "\n",
        "plt.ylim(0.8,1)\n",
        "plt.xlabel('Número de neuronas')\n",
        "plt.ylabel('Precisión con datos de validación')"
      ],
      "execution_count": 5,
      "outputs": [
        {
          "output_type": "stream",
          "text": [
            "100%|██████████| 98/98 [18:46<00:00, 11.49s/it]"
          ],
          "name": "stderr"
        },
        {
          "output_type": "stream",
          "text": [
            "Precisión a partir de un entrenamiento con:\n",
            "-> 83 neuronas. Validación: 0.953601108033241\n"
          ],
          "name": "stdout"
        },
        {
          "output_type": "stream",
          "text": [
            "\n"
          ],
          "name": "stderr"
        },
        {
          "output_type": "execute_result",
          "data": {
            "text/plain": [
              "Text(0, 0.5, 'Precisión con datos de validación')"
            ]
          },
          "metadata": {
            "tags": []
          },
          "execution_count": 5
        },
        {
          "output_type": "display_data",
          "data": {
            "image/png": "[encoded data removed]",
            "text/plain": [
              "<Figure size 432x288 with 1 Axes>"
            ]
          },
          "metadata": {
            "tags": [],
            "needs_background": "light"
          }
        }
      ]
    },
    {
      "cell_type": "markdown",
      "metadata": {
        "id": "aMNUIoPdrGct",
        "colab_type": "text"
      },
      "source": [
        "**Red Neuronal 3 Capas**"
      ]
    },
    {
      "cell_type": "code",
      "metadata": {
        "id": "t6mBbEG22Hld",
        "colab_type": "code",
        "colab": {
          "base_uri": "https://localhost:8080/",
          "height": 350
        },
        "outputId": "c4e9dfb5-7168-465a-d916-cfffec5f5a8e"
      },
      "source": [
        "Nmin = 2\n",
        "Nmax = 100\n",
        "capas = 3\n",
        "n_max_ac = 0\n",
        "max_ac = 0\n",
        "vector_val_ac = []\n",
        "vector_train_ac = []\n",
        "for n in tqdm(range(Nmin,Nmax)):\n",
        "  val_ac, train_ac = red_neuronal(xTrain, yTrain, xVal, yVal, n, capas)\n",
        "  \n",
        "  vector_train_ac.append(train_ac)\n",
        "  vector_val_ac.append(val_ac)\n",
        "  if val_ac>max_ac:\n",
        "    max_ac = val_ac\n",
        "    n_max_ac = n\n",
        "    \n",
        "print(\"Precisión a partir de un entrenamiento con:\")\n",
        "print(\"->\",n_max_ac,\"neuronas. Validación:\", max_ac)\n",
        "\n",
        "fig, ax = plt.subplots()\n",
        "ax.plot(range(Nmin,Nmax), vector_val_ac, label='Validación')\n",
        "ax.plot(range(Nmin,Nmax), vector_train_ac, label='Entrenamiento')\n",
        "leg = ax.legend();\n",
        "\n",
        "plt.ylim(0.8,1)\n",
        "plt.xlabel('Número de neuronas')\n",
        "plt.ylabel('Precisión con datos de validación')"
      ],
      "execution_count": 6,
      "outputs": [
        {
          "output_type": "stream",
          "text": [
            "100%|██████████| 98/98 [17:52<00:00, 10.95s/it]"
          ],
          "name": "stderr"
        },
        {
          "output_type": "stream",
          "text": [
            "Precisión a partir de un entrenamiento con:\n",
            "-> 89 neuronas. Validación: 0.9560249307479224\n"
          ],
          "name": "stdout"
        },
        {
          "output_type": "stream",
          "text": [
            "\n"
          ],
          "name": "stderr"
        },
        {
          "output_type": "execute_result",
          "data": {
            "text/plain": [
              "Text(0, 0.5, 'Precisión con datos de validación')"
            ]
          },
          "metadata": {
            "tags": []
          },
          "execution_count": 6
        },
        {
          "output_type": "display_data",
          "data": {
            "image/png": "[encoded data removed]",
            "text/plain": [
              "<Figure size 432x288 with 1 Axes>"
            ]
          },
          "metadata": {
            "tags": [],
            "needs_background": "light"
          }
        }
      ]
    },
    {
      "cell_type": "markdown",
      "metadata": {
        "id": "UwY6M3CPrMU-",
        "colab_type": "text"
      },
      "source": [
        "**Red Neuronal 4 Capas**"
      ]
    },
    {
      "cell_type": "code",
      "metadata": {
        "id": "20iAwaXp7eMO",
        "colab_type": "code",
        "colab": {
          "base_uri": "https://localhost:8080/",
          "height": 350
        },
        "outputId": "08afc211-e564-4ed9-82db-174d986f7478"
      },
      "source": [
        "Nmin = 2\n",
        "Nmax = 100\n",
        "capas = 4\n",
        "n_max_ac = 0\n",
        "max_ac = 0\n",
        "vector_val_ac = []\n",
        "vector_train_ac = []\n",
        "for n in tqdm(range(Nmin,Nmax)):\n",
        "  val_ac, train_ac = red_neuronal(xTrain, yTrain, xVal, yVal, n, capas)\n",
        "  \n",
        "  vector_train_ac.append(train_ac)\n",
        "  vector_val_ac.append(val_ac)\n",
        "  if val_ac>max_ac:\n",
        "    max_ac = val_ac\n",
        "    n_max_ac = n\n",
        "    \n",
        "print(\"Precisión a partir de un entrenamiento con:\")\n",
        "print(\"->\",n_max_ac,\"neuronas. Validación:\", max_ac)\n",
        "\n",
        "fig, ax = plt.subplots()\n",
        "ax.plot(range(Nmin,Nmax), vector_val_ac, label='Validación')\n",
        "ax.plot(range(Nmin,Nmax), vector_train_ac, label='Entrenamiento')\n",
        "leg = ax.legend();\n",
        "\n",
        "plt.ylim(0.8,1)\n",
        "plt.xlabel('Número de neuronas')\n",
        "plt.ylabel('Precisión con datos de validación')"
      ],
      "execution_count": 7,
      "outputs": [
        {
          "output_type": "stream",
          "text": [
            "100%|██████████| 98/98 [17:48<00:00, 10.91s/it]"
          ],
          "name": "stderr"
        },
        {
          "output_type": "stream",
          "text": [
            "Precisión a partir de un entrenamiento con:\n",
            "-> 95 neuronas. Validación: 0.9542936288088643\n"
          ],
          "name": "stdout"
        },
        {
          "output_type": "stream",
          "text": [
            "\n"
          ],
          "name": "stderr"
        },
        {
          "output_type": "execute_result",
          "data": {
            "text/plain": [
              "Text(0, 0.5, 'Precisión con datos de validación')"
            ]
          },
          "metadata": {
            "tags": []
          },
          "execution_count": 7
        },
        {
          "output_type": "display_data",
          "data": {
            "image/png": "[encoded data removed]",
            "text/plain": [
              "<Figure size 432x288 with 1 Axes>"
            ]
          },
          "metadata": {
            "tags": [],
            "needs_background": "light"
          }
        }
      ]
    },
    {
      "cell_type": "markdown",
      "metadata": {
        "id": "4Wx22YDnrPC6",
        "colab_type": "text"
      },
      "source": [
        "**Red Neuronal 5 Capas**"
      ]
    },
    {
      "cell_type": "code",
      "metadata": {
        "id": "TYmcOAN4CNFy",
        "colab_type": "code",
        "colab": {
          "base_uri": "https://localhost:8080/",
          "height": 350
        },
        "outputId": "fab9ad20-89cc-4d1a-8469-4f7207b9a0c7"
      },
      "source": [
        "Nmin = 2\n",
        "Nmax = 100\n",
        "capas = 5\n",
        "n_max_ac = 0\n",
        "max_ac = 0\n",
        "vector_val_ac = []\n",
        "vector_train_ac = []\n",
        "for n in tqdm(range(Nmin,Nmax)):\n",
        "  val_ac, train_ac = red_neuronal(xTrain, yTrain, xVal, yVal, n, capas)\n",
        "  \n",
        "  vector_train_ac.append(train_ac)\n",
        "  vector_val_ac.append(val_ac)\n",
        "  if val_ac>max_ac:\n",
        "    max_ac = val_ac\n",
        "    n_max_ac = n\n",
        "    \n",
        "print(\"Precisión a partir de un entrenamiento con:\")\n",
        "print(\"->\",n_max_ac,\"neuronas. Validación:\", max_ac)\n",
        "\n",
        "fig, ax = plt.subplots()\n",
        "ax.plot(range(Nmin,Nmax), vector_val_ac, label='Validación')\n",
        "ax.plot(range(Nmin,Nmax), vector_train_ac, label='Entrenamiento')\n",
        "leg = ax.legend();\n",
        "\n",
        "plt.ylim(0.8,1)\n",
        "plt.xlabel('Número de neuronas')\n",
        "plt.ylabel('Precisión con datos de validación')"
      ],
      "execution_count": 8,
      "outputs": [
        {
          "output_type": "stream",
          "text": [
            "100%|██████████| 98/98 [18:27<00:00, 11.30s/it]"
          ],
          "name": "stderr"
        },
        {
          "output_type": "stream",
          "text": [
            "Precisión a partir de un entrenamiento con:\n",
            "-> 92 neuronas. Validación: 0.9546398891966759\n"
          ],
          "name": "stdout"
        },
        {
          "output_type": "stream",
          "text": [
            "\n"
          ],
          "name": "stderr"
        },
        {
          "output_type": "execute_result",
          "data": {
            "text/plain": [
              "Text(0, 0.5, 'Precisión con datos de validación')"
            ]
          },
          "metadata": {
            "tags": []
          },
          "execution_count": 8
        },
        {
          "output_type": "display_data",
          "data": {
            "image/png": "[encoded data removed]",
            "text/plain": [
              "<Figure size 432x288 with 1 Axes>"
            ]
          },
          "metadata": {
            "tags": [],
            "needs_background": "light"
          }
        }
      ]
    },
    {
      "cell_type": "markdown",
      "metadata": {
        "id": "RbxKj7QjrUNT",
        "colab_type": "text"
      },
      "source": [
        "# Support Vector Machine\n",
        "\n",
        "Finalmente, se analizaron los resultados a partir de un clasificador tipo SVM. Se realizó una principal variación del parámetro de regularización (C), el cual se relaciona de forma inversa a la complejidad del modelo (previniendo *overfitting*)."
      ]
    },
    {
      "cell_type": "code",
      "metadata": {
        "id": "nrcooJUUrnDp",
        "colab_type": "code",
        "colab": {}
      },
      "source": [
        "from sklearn.utils.testing import ignore_warnings\n",
        "from sklearn.exceptions import ConvergenceWarning\n",
        "\n",
        "@ignore_warnings(category=ConvergenceWarning)\n",
        "\n",
        "def svm(xTrain, yTrain, xVal, yVal, exp_C):\n",
        "  sv_clf = SVC(C = 10**(exp[exp_C]), kernel = 'rbf', gamma = 'auto')\n",
        "  sv_clf.fit(xTrain, yTrain)\n",
        "\n",
        "  pred_trainY = sv_clf.predict(xTrain)\n",
        "  pred_valY = sv_clf.predict(xVal)\n",
        "  \n",
        "  train_ac = accuracy_score(yTrain, pred_trainY)\n",
        "  val_ac = accuracy_score(yVal, pred_valY)\n",
        "  return val_ac, train_ac, sv_clf"
      ],
      "execution_count": 16,
      "outputs": []
    },
    {
      "cell_type": "code",
      "metadata": {
        "id": "a0sGSm3bIhSP",
        "colab_type": "code",
        "colab": {
          "base_uri": "https://localhost:8080/",
          "height": 1000
        },
        "outputId": "474c52f3-8453-4e5c-9274-17068f258ee8"
      },
      "source": [
        "from sklearn.svm import SVC\n",
        "\n",
        "train_ac = []\n",
        "val_ac = []\n",
        "max_val_ac = 0\n",
        "max_val_ac_C = 0\n",
        "C_min = -3\n",
        "C_max = 3\n",
        "\n",
        "exp = np.linspace(C_min, C_max, 50)\n",
        "\n",
        "for i in tqdm(range(len(exp))):\n",
        "  prec_val, prec_train, sv_clf = svm(xTrain, yTrain, xVal, yVal, i)\n",
        "\n",
        "  train_ac.append(prec_train)\n",
        "  val_ac.append(prec_val)\n",
        "  if prec_val > max_val_ac:\n",
        "    max_val_ac = prec_val\n",
        "    sv_best_clf = sv_clf\n",
        "    max_val_ac_C = exp[i]\n",
        "\n",
        "print(\"Precisión a partir de un entrenamiento con:\")\n",
        "print(\"->Regularización C:\",max_val_ac_C,\". Validación:\", max_val_ac)\n",
        "\n",
        "fig, ax = plt.subplots()\n",
        "ax.plot(exp, train_ac, label='Entrenamiento')\n",
        "ax.plot(exp, val_ac, label='Validación')\n",
        "ax.legend()\n",
        "plt.xlabel(\"Regularización, log_10(C)\")\n",
        "plt.ylabel(\"Precisión\")\n",
        "plt.title(\"Entrenamiento de modelo SVM con kernel gaussiano\")"
      ],
      "execution_count": 17,
      "outputs": [
        {
          "output_type": "stream",
          "text": [
            "\n",
            "\n",
            "\n",
            "  0%|          | 0/50 [00:00<?, ?it/s]\u001b[A\u001b[A\u001b[A\n",
            "\n",
            "\n",
            "  2%|▏         | 1/50 [00:14<11:34, 14.18s/it]\u001b[A\u001b[A\u001b[A\n",
            "\n",
            "\n",
            "  4%|▍         | 2/50 [00:28<11:18, 14.14s/it]\u001b[A\u001b[A\u001b[A\n",
            "\n",
            "\n",
            "  6%|▌         | 3/50 [00:41<10:47, 13.78s/it]\u001b[A\u001b[A\u001b[A\n",
            "\n",
            "\n",
            "  8%|▊         | 4/50 [00:53<10:09, 13.26s/it]\u001b[A\u001b[A\u001b[A\n",
            "\n",
            "\n",
            " 10%|█         | 5/50 [01:04<09:30, 12.69s/it]\u001b[A\u001b[A\u001b[A\n",
            "\n",
            "\n",
            " 12%|█▏        | 6/50 [01:15<08:50, 12.05s/it]\u001b[A\u001b[A\u001b[A\n",
            "\n",
            "\n",
            " 14%|█▍        | 7/50 [01:24<08:09, 11.38s/it]\u001b[A\u001b[A\u001b[A\n",
            "\n",
            "\n",
            " 16%|█▌        | 8/50 [01:34<07:30, 10.73s/it]\u001b[A\u001b[A\u001b[A\n",
            "\n",
            "\n",
            " 18%|█▊        | 9/50 [01:42<06:55, 10.15s/it]\u001b[A\u001b[A\u001b[A\n",
            "\n",
            "\n",
            " 20%|██        | 10/50 [01:51<06:27,  9.68s/it]\u001b[A\u001b[A\u001b[A\n",
            "\n",
            "\n",
            " 22%|██▏       | 11/50 [01:59<05:59,  9.22s/it]\u001b[A\u001b[A\u001b[A\n",
            "\n",
            "\n",
            " 24%|██▍       | 12/50 [02:07<05:35,  8.84s/it]\u001b[A\u001b[A\u001b[A\n",
            "\n",
            "\n",
            " 26%|██▌       | 13/50 [02:15<05:12,  8.43s/it]\u001b[A\u001b[A\u001b[A\n",
            "\n",
            "\n",
            " 28%|██▊       | 14/50 [02:22<04:49,  8.05s/it]\u001b[A\u001b[A\u001b[A\n",
            "\n",
            "\n",
            " 30%|███       | 15/50 [02:29<04:28,  7.66s/it]\u001b[A\u001b[A\u001b[A\n",
            "\n",
            "\n",
            " 32%|███▏      | 16/50 [02:35<04:06,  7.26s/it]\u001b[A\u001b[A\u001b[A\n",
            "\n",
            "\n",
            " 34%|███▍      | 17/50 [02:41<03:47,  6.89s/it]\u001b[A\u001b[A\u001b[A\n",
            "\n",
            "\n",
            " 36%|███▌      | 18/50 [02:47<03:28,  6.53s/it]\u001b[A\u001b[A\u001b[A\n",
            "\n",
            "\n",
            " 38%|███▊      | 19/50 [02:52<03:12,  6.21s/it]\u001b[A\u001b[A\u001b[A\n",
            "\n",
            "\n",
            " 40%|████      | 20/50 [02:57<02:58,  5.95s/it]\u001b[A\u001b[A\u001b[A\n",
            "\n",
            "\n",
            " 42%|████▏     | 21/50 [03:02<02:45,  5.70s/it]\u001b[A\u001b[A\u001b[A\n",
            "\n",
            "\n",
            " 44%|████▍     | 22/50 [03:07<02:33,  5.48s/it]\u001b[A\u001b[A\u001b[A\n",
            "\n",
            "\n",
            " 46%|████▌     | 23/50 [03:12<02:23,  5.31s/it]\u001b[A\u001b[A\u001b[A\n",
            "\n",
            "\n",
            " 48%|████▊     | 24/50 [03:17<02:14,  5.16s/it]\u001b[A\u001b[A\u001b[A\n",
            "\n",
            "\n",
            " 50%|█████     | 25/50 [03:22<02:05,  5.02s/it]\u001b[A\u001b[A\u001b[A\n",
            "\n",
            "\n",
            " 52%|█████▏    | 26/50 [03:26<01:57,  4.88s/it]\u001b[A\u001b[A\u001b[A\n",
            "\n",
            "\n",
            " 54%|█████▍    | 27/50 [03:31<01:49,  4.76s/it]\u001b[A\u001b[A\u001b[A\n",
            "\n",
            "\n",
            " 56%|█████▌    | 28/50 [03:35<01:41,  4.63s/it]\u001b[A\u001b[A\u001b[A\n",
            "\n",
            "\n",
            " 58%|█████▊    | 29/50 [03:39<01:34,  4.51s/it]\u001b[A\u001b[A\u001b[A\n",
            "\n",
            "\n",
            " 60%|██████    | 30/50 [03:44<01:27,  4.39s/it]\u001b[A\u001b[A\u001b[A\n",
            "\n",
            "\n",
            " 62%|██████▏   | 31/50 [03:48<01:21,  4.26s/it]\u001b[A\u001b[A\u001b[A\n",
            "\n",
            "\n",
            " 64%|██████▍   | 32/50 [03:51<01:14,  4.15s/it]\u001b[A\u001b[A\u001b[A\n",
            "\n",
            "\n",
            " 66%|██████▌   | 33/50 [03:55<01:08,  4.04s/it]\u001b[A\u001b[A\u001b[A\n",
            "\n",
            "\n",
            " 68%|██████▊   | 34/50 [03:59<01:03,  3.96s/it]\u001b[A\u001b[A\u001b[A\n",
            "\n",
            "\n",
            " 70%|███████   | 35/50 [04:03<00:58,  3.89s/it]\u001b[A\u001b[A\u001b[A\n",
            "\n",
            "\n",
            " 72%|███████▏  | 36/50 [04:06<00:53,  3.86s/it]\u001b[A\u001b[A\u001b[A\n",
            "\n",
            "\n",
            " 74%|███████▍  | 37/50 [04:10<00:49,  3.82s/it]\u001b[A\u001b[A\u001b[A\n",
            "\n",
            "\n",
            " 76%|███████▌  | 38/50 [04:14<00:45,  3.83s/it]\u001b[A\u001b[A\u001b[A\n",
            "\n",
            "\n",
            " 78%|███████▊  | 39/50 [04:18<00:42,  3.87s/it]\u001b[A\u001b[A\u001b[A\n",
            "\n",
            "\n",
            " 80%|████████  | 40/50 [04:22<00:39,  3.91s/it]\u001b[A\u001b[A\u001b[A\n",
            "\n",
            "\n",
            " 82%|████████▏ | 41/50 [04:26<00:35,  3.98s/it]\u001b[A\u001b[A\u001b[A\n",
            "\n",
            "\n",
            " 84%|████████▍ | 42/50 [04:30<00:32,  4.07s/it]\u001b[A\u001b[A\u001b[A\n",
            "\n",
            "\n",
            " 86%|████████▌ | 43/50 [04:35<00:29,  4.15s/it]\u001b[A\u001b[A\u001b[A\n",
            "\n",
            "\n",
            " 88%|████████▊ | 44/50 [04:39<00:25,  4.30s/it]\u001b[A\u001b[A\u001b[A\n",
            "\n",
            "\n",
            " 90%|█████████ | 45/50 [04:44<00:22,  4.41s/it]\u001b[A\u001b[A\u001b[A\n",
            "\n",
            "\n",
            " 92%|█████████▏| 46/50 [04:49<00:18,  4.55s/it]\u001b[A\u001b[A\u001b[A\n",
            "\n",
            "\n",
            " 94%|█████████▍| 47/50 [04:54<00:14,  4.71s/it]\u001b[A\u001b[A\u001b[A\n",
            "\n",
            "\n",
            " 96%|█████████▌| 48/50 [04:59<00:09,  4.84s/it]\u001b[A\u001b[A\u001b[A\n",
            "\n",
            "\n",
            " 98%|█████████▊| 49/50 [05:05<00:05,  5.01s/it]\u001b[A\u001b[A\u001b[A\n",
            "\n",
            "\n",
            "100%|██████████| 50/50 [05:10<00:00,  6.21s/it]"
          ],
          "name": "stderr"
        },
        {
          "output_type": "stream",
          "text": [
            "Precisión a partir de un entrenamiento con:\n",
            "->Regularización C: 2.387755102040816 . Validación: 0.9674515235457064\n"
          ],
          "name": "stdout"
        },
        {
          "output_type": "stream",
          "text": [
            "\n"
          ],
          "name": "stderr"
        },
        {
          "output_type": "execute_result",
          "data": {
            "text/plain": [
              "Text(0.5, 1.0, 'Entrenamiento de modelo SVM con kernel gaussiano')"
            ]
          },
          "metadata": {
            "tags": []
          },
          "execution_count": 17
        },
        {
          "output_type": "display_data",
          "data": {
            "image/png": "[encoded data removed]",
            "text/plain": [
              "<Figure size 432x288 with 1 Axes>"
            ]
          },
          "metadata": {
            "tags": [],
            "needs_background": "light"
          }
        }
      ]
    },
    {
      "cell_type": "markdown",
      "metadata": {
        "id": "WFUbSDWqyafh",
        "colab_type": "text"
      },
      "source": [
        "# Creación de Archivo con Etiquetas de Prueba\n",
        "\n"
      ]
    },
    {
      "cell_type": "code",
      "metadata": {
        "id": "6YigAotKtXNd",
        "colab_type": "code",
        "colab": {
          "base_uri": "https://localhost:8080/",
          "height": 34
        },
        "outputId": "715deba3-aa6e-460c-f57d-2da26491abf6"
      },
      "source": [
        "C_min = -3\n",
        "C_max = 3\n",
        "\n",
        "exp = np.linspace(C_min, C_max, 50)\n",
        "\n",
        "sv_clf = SVC(C = 10**(2.387755), kernel = 'rbf', gamma = 'auto')\n",
        "sv_clf.fit(xTrain, yTrain)\n",
        "\n",
        "pred_trainY = sv_clf.predict(xTrain)\n",
        "pred_valY = sv_clf.predict(xVal)\n",
        "  \n",
        "train_ac = accuracy_score(yTrain, pred_trainY)\n",
        "val_ac = accuracy_score(yVal, pred_valY)\n",
        "\n",
        "print(val_ac)\n",
        "\n",
        "xTest = pd.read_csv('/content/drive/My Drive/ConvocatoriaSinfonIAUniandes/reto3/DataTest.csv', names=cols)\n",
        "\n",
        "predY = sv_clf.predict(xTest)\n",
        "pd.DataFrame(predY).to_csv(\"reto3_201711999.csv\", header=None, index=None)"
      ],
      "execution_count": 25,
      "outputs": [
        {
          "output_type": "stream",
          "text": [
            "0.9691828254847645\n"
          ],
          "name": "stdout"
        }
      ]
    },
    {
      "cell_type": "code",
      "metadata": {
        "id": "QCXXxQDO2cGy",
        "colab_type": "code",
        "colab": {}
      },
      "source": [
        ""
      ],
      "execution_count": null,
      "outputs": []
    }
  ]
}