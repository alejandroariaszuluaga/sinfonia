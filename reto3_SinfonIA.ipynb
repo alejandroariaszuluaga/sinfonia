{
  "nbformat": 4,
  "nbformat_minor": 0,
  "metadata": {
    "colab": {
      "name": "reto3_SinfonIA.ipynb",
      "provenance": [],
      "mount_file_id": "17UJggkYHGAZxPMqTgmAbUIBOzG6_M_yH",
      "authorship_tag": "ABX9TyMsnH/tvDmMshmD9mxs1S7B",
      "include_colab_link": true
    },
    "kernelspec": {
      "name": "python3",
      "display_name": "Python 3"
    }
  },
  "cells": [
    {
      "cell_type": "markdown",
      "metadata": {
        "id": "view-in-github",
        "colab_type": "text"
      },
      "source": [
        "<a href=\"https://colab.research.google.com/github/alejandroariaszuluaga/sinfonia/blob/master/reto3_SinfonIA.ipynb\" target=\"_parent\"><img src=\"https://colab.research.google.com/assets/colab-badge.svg\" alt=\"Open In Colab\"/></a>"
      ]
    },
    {
      "cell_type": "markdown",
      "metadata": {
        "id": "KmZkbUfUtxml",
        "colab_type": "text"
      },
      "source": [
        "# **Reto 3: Convocatoria SinfonÍA**\n",
        "\n",
        "**Autor:** Alejandro Arias\n",
        "\n",
        "**Código:** 201711999\n",
        "\n",
        "**Correo de contacto:** a.ariasz@uniandes.edu.co"
      ]
    },
    {
      "cell_type": "markdown",
      "metadata": {
        "id": "7qKEmwZkuDTa",
        "colab_type": "text"
      },
      "source": [
        "A continuación se implementan principalmente dos alternativas para resolver el siguiente problema de clasificación binaria:\n",
        "\n",
        "> Desarrollar un modelo que reciba un vector de características y retorne la etiqueta, indicando si hay o no una persona.\n",
        "\n",
        "A continuación se importan los datos necesarios, los cuales fueron obtenidos desde el repositorio: https://github.com/carolinahiguera/ConvocatoriaSinfonIAUniandes.git\n"
      ]
    },
    {
      "cell_type": "code",
      "metadata": {
        "id": "BYAQeExm3jXX",
        "colab_type": "code",
        "colab": {
          "base_uri": "https://localhost:8080/",
          "height": 34
        },
        "outputId": "34fa10c0-c1a6-498a-8364-bc1569a4c2ba"
      },
      "source": [
        "from google.colab import drive\n",
        "drive.mount('/content/drive')\n",
        "\n",
        "import pandas as pd\n",
        "import numpy as np\n",
        "\n",
        "import matplotlib.pyplot as plt\n",
        "from tqdm import tqdm\n",
        "\n",
        "from sklearn.model_selection import train_test_split\n",
        "from sklearn.linear_model import LogisticRegression\n",
        "\n",
        "from sklearn.metrics import accuracy_score\n",
        "from sklearn.neural_network import MLPClassifier"
      ],
      "execution_count": 19,
      "outputs": [
        {
          "output_type": "stream",
          "text": [
            "Drive already mounted at /content/drive; to attempt to forcibly remount, call drive.mount(\"/content/drive\", force_remount=True).\n"
          ],
          "name": "stdout"
        }
      ]
    },
    {
      "cell_type": "code",
      "metadata": {
        "id": "zFrrOr8d5Y1a",
        "colab_type": "code",
        "colab": {}
      },
      "source": [
        "cols = ['x1', 'x2', 'x3', 'x4', 'x5', 'x6', 'x7', 'x8', 'x9', 'x10', 'x11', 'x12', 'x13', 'x14', 'x15', 'x16', 'x17', 'x18', 'x19', 'x20', 'x21', 'x22', 'x23', 'x24', 'x25', 'x26', 'x27', 'x28']\n",
        "\n",
        "xTrain_df = pd.read_csv('/content/drive/My Drive/ConvocatoriaSinfonIAUniandes/reto3/DataTrain.csv', names=cols)\n",
        "yTrain_df = pd.read_csv('/content/drive/My Drive/ConvocatoriaSinfonIAUniandes/reto3/LabelsTrain.csv', names=['y'])\n",
        "\n",
        "xTrain, xVal, yTrain, yVal = train_test_split(xTrain_df.values, yTrain_df.values, test_size = 0.2)\n",
        "yTrain = np.ravel(yTrain)\n",
        "yVal = np.ravel(yVal)"
      ],
      "execution_count": 20,
      "outputs": []
    },
    {
      "cell_type": "markdown",
      "metadata": {
        "id": "YFaVKOIGvLnS",
        "colab_type": "text"
      },
      "source": [
        "# Regresión Logística\n",
        "\n",
        "En primer lugar, se realizó una prueba preliminar aplicando un modelo de regresión logística."
      ]
    },
    {
      "cell_type": "code",
      "metadata": {
        "id": "LNyWur3l-WNE",
        "colab_type": "code",
        "colab": {
          "base_uri": "https://localhost:8080/",
          "height": 168
        },
        "outputId": "a3cdb1a0-5f5c-4d5f-cc1e-39e13661e5cb"
      },
      "source": [
        "clf = LogisticRegression(class_weight='balanced')\n",
        "clf.fit(xTrain, yTrain)\n",
        "clf.score(xVal, yVal)"
      ],
      "execution_count": 21,
      "outputs": [
        {
          "output_type": "stream",
          "text": [
            "/usr/local/lib/python3.6/dist-packages/sklearn/linear_model/_logistic.py:940: ConvergenceWarning: lbfgs failed to converge (status=1):\n",
            "STOP: TOTAL NO. of ITERATIONS REACHED LIMIT.\n",
            "\n",
            "Increase the number of iterations (max_iter) or scale the data as shown in:\n",
            "    https://scikit-learn.org/stable/modules/preprocessing.html\n",
            "Please also refer to the documentation for alternative solver options:\n",
            "    https://scikit-learn.org/stable/modules/linear_model.html#logistic-regression\n",
            "  extra_warning_msg=_LOGISTIC_SOLVER_CONVERGENCE_MSG)\n"
          ],
          "name": "stderr"
        },
        {
          "output_type": "execute_result",
          "data": {
            "text/plain": [
              "0.9030470914127424"
            ]
          },
          "metadata": {
            "tags": []
          },
          "execution_count": 21
        }
      ]
    },
    {
      "cell_type": "markdown",
      "metadata": {
        "id": "OQyLlCXKvY0f",
        "colab_type": "text"
      },
      "source": [
        "# **Redes Neuronales**\n",
        "\n",
        "Posteriormente, se probaron varias arquitecturas de redes neuronales, tomando un rango desde 2 hasta 200 neuronas por cada capa. Igualmente, se analizó un rango desde 2 hasta 5 capas escondidas.\n",
        "\n",
        "Se utilizaron los parámetros:\n",
        "\n",
        "*   Función de activación: ReLu\n",
        "*   Optimizador: *Adam*\n"
      ]
    },
    {
      "cell_type": "code",
      "metadata": {
        "id": "GTZHPiPGRnzX",
        "colab_type": "code",
        "colab": {}
      },
      "source": [
        "from sklearn.utils.testing import ignore_warnings\n",
        "from sklearn.exceptions import ConvergenceWarning\n",
        "\n",
        "@ignore_warnings(category=ConvergenceWarning)\n",
        "\n",
        "def red_neuronal(xTrain, yTrain, xVal, yVal, n, capas):\n",
        "  \n",
        "  clf = MLPClassifier(activation='relu', solver='sgd', hidden_layer_sizes=(n,capas))\n",
        "  clf.fit(xTrain, yTrain)\n",
        "  \n",
        "  pred_val_Y = clf.predict(xVal)\n",
        "  pred_train_Y = clf.predict(xTrain)\n",
        "  \n",
        "  train_ac = accuracy_score(yTrain, pred_train_Y)\n",
        "  val_ac = accuracy_score(yVal, pred_val_Y)\n",
        "  return val_ac, train_ac"
      ],
      "execution_count": 23,
      "outputs": []
    },
    {
      "cell_type": "markdown",
      "metadata": {
        "id": "QTMYW9DcrC2q",
        "colab_type": "text"
      },
      "source": [
        "**Red Neuronal 2 Capas**"
      ]
    },
    {
      "cell_type": "code",
      "metadata": {
        "id": "khfP-2qkIKQl",
        "colab_type": "code",
        "colab": {}
      },
      "source": [
        "Nmin = 2\n",
        "Nmax = 200\n",
        "capas = 2\n",
        "n_max_ac = 0\n",
        "max_ac = 0\n",
        "vector_val_ac = []\n",
        "vector_train_ac = []\n",
        "for n in range(Nmin,Nmax):\n",
        "  val_ac, train_ac = red_neuronal(xTrain, yTrain, xVal, yVal, n, capas)\n",
        "  \n",
        "  vector_train_ac.append(train_ac)\n",
        "  vector_val_ac.append(val_ac)\n",
        "  if val_ac>max_ac:\n",
        "    max_ac = val_ac\n",
        "    n_max_ac = n\n",
        "    \n",
        "print(\"Precisión a partir de un entrenamiento con:\")\n",
        "print(\"->\",n_max_ac,\"neuronas. Validación:\", max_ac)\n",
        "\n",
        "fig, ax = plt.subplots()\n",
        "ax.plot(range(Nmin,Nmax), vector_val_ac, label='Validación')\n",
        "ax.plot(range(Nmin,Nmax), vector_train_ac, label='Entrenamiento')\n",
        "leg = ax.legend();\n",
        "\n",
        "plt.ylim(0,1)\n",
        "plt.xlabel('Número de neuronas')\n",
        "plt.ylabel('Precisión con datos de validación')"
      ],
      "execution_count": null,
      "outputs": []
    },
    {
      "cell_type": "markdown",
      "metadata": {
        "id": "aMNUIoPdrGct",
        "colab_type": "text"
      },
      "source": [
        "**Red Neuronal 3 Capas**"
      ]
    },
    {
      "cell_type": "code",
      "metadata": {
        "id": "qqKdmiIY7cHT",
        "colab_type": "code",
        "colab": {}
      },
      "source": [
        "Nmin = 2\n",
        "Nmax = 200\n",
        "capas = 3\n",
        "n_max_ac = 0\n",
        "max_ac = 0\n",
        "vector_val_ac = []\n",
        "vector_train_ac = []\n",
        "for n in range(Nmin,Nmax):\n",
        "  val_ac, train_ac = red_neuronal(xTrain, yTrain, xVal, yVal, n, capas)\n",
        "  \n",
        "  vector_train_ac.append(train_ac)\n",
        "  vector_val_ac.append(val_ac)\n",
        "  if val_ac>max_ac:\n",
        "    max_ac = val_ac\n",
        "    n_max_ac = n\n",
        "    \n",
        "print(\"Precisión a partir de un entrenamiento con:\")\n",
        "print(\"->\",n_max_ac,\"neuronas. Validación:\", max_ac)\n",
        "\n",
        "fig, ax = plt.subplots()\n",
        "ax.plot(range(Nmin,Nmax), vector_val_ac, label='Validación')\n",
        "ax.plot(range(Nmin,Nmax), vector_train_ac, label='Entrenamiento')\n",
        "leg = ax.legend();\n",
        "\n",
        "plt.ylim(0,1)\n",
        "plt.xlabel('Número de neuronas')\n",
        "plt.ylabel('Precisión con datos de validación')"
      ],
      "execution_count": null,
      "outputs": []
    },
    {
      "cell_type": "markdown",
      "metadata": {
        "id": "UwY6M3CPrMU-",
        "colab_type": "text"
      },
      "source": [
        "**Red Neuronal 4 Capas**"
      ]
    },
    {
      "cell_type": "code",
      "metadata": {
        "id": "20iAwaXp7eMO",
        "colab_type": "code",
        "colab": {}
      },
      "source": [
        "Nmin = 2\n",
        "Nmax = 200\n",
        "capas = 4\n",
        "n_max_ac = 0\n",
        "max_ac = 0\n",
        "vector_val_ac = []\n",
        "vector_train_ac = []\n",
        "for n in range(Nmin,Nmax):\n",
        "  val_ac, train_ac = red_neuronal(xTrain, yTrain, xVal, yVal, n, capas)\n",
        "  \n",
        "  vector_train_ac.append(train_ac)\n",
        "  vector_val_ac.append(val_ac)\n",
        "  if val_ac>max_ac:\n",
        "    max_ac = val_ac\n",
        "    n_max_ac = n\n",
        "    \n",
        "print(\"Precisión a partir de un entrenamiento con:\")\n",
        "print(\"->\",n_max_ac,\"neuronas. Validación:\", max_ac)\n",
        "\n",
        "fig, ax = plt.subplots()\n",
        "ax.plot(range(Nmin,Nmax), vector_val_ac, label='Validación')\n",
        "ax.plot(range(Nmin,Nmax), vector_train_ac, label='Entrenamiento')\n",
        "leg = ax.legend();\n",
        "\n",
        "plt.ylim(0,1)\n",
        "plt.xlabel('Número de neuronas')\n",
        "plt.ylabel('Precisión con datos de validación')"
      ],
      "execution_count": null,
      "outputs": []
    },
    {
      "cell_type": "markdown",
      "metadata": {
        "id": "4Wx22YDnrPC6",
        "colab_type": "text"
      },
      "source": [
        "**Red Neuronal 5 Capas**"
      ]
    },
    {
      "cell_type": "code",
      "metadata": {
        "id": "TYmcOAN4CNFy",
        "colab_type": "code",
        "colab": {}
      },
      "source": [
        "Nmin = 2\n",
        "Nmax = 200\n",
        "capas = 5\n",
        "n_max_ac = 0\n",
        "max_ac = 0\n",
        "vector_val_ac = []\n",
        "vector_train_ac = []\n",
        "for n in range(Nmin,Nmax):\n",
        "  val_ac = red_neuronal(xTrain, yTrain, xVal, yVal, n, capas)\n",
        "  \n",
        "  #vector_train_ac.append(train_ac)\n",
        "  vector_val_ac.append(val_ac)\n",
        "  if val_ac>max_ac:\n",
        "    max_ac = val_ac\n",
        "    n_max_ac = n\n",
        "    \n",
        "print(\"Precisión a partir de un entrenamiento con:\")\n",
        "print(\"->\",n_max_ac,\"neuronas. Validación:\", max_ac)\n",
        "\n",
        "fig, ax = plt.subplots()\n",
        "ax.plot(range(Nmin,Nmax), vector_val_ac, label='Validación')\n",
        "ax.plot(range(Nmin,Nmax), vector_train_ac, label='Entrenamiento')\n",
        "leg = ax.legend();\n",
        "\n",
        "plt.ylim(0,1)\n",
        "plt.xlabel('Número de neuronas')\n",
        "plt.ylabel('Precisión con datos de validación')"
      ],
      "execution_count": null,
      "outputs": []
    },
    {
      "cell_type": "markdown",
      "metadata": {
        "id": "RbxKj7QjrUNT",
        "colab_type": "text"
      },
      "source": [
        "# Support Vector Machine\n",
        "\n",
        "Finalmente, se analizaron los resultados a partir de un clasificador tipo SVM. Se realizó una principal variación del parámetro de regularización (C), el cual se relaciona de forma inversa a la complejidad del modelo (previniendo *overfitting*)."
      ]
    },
    {
      "cell_type": "code",
      "metadata": {
        "id": "nrcooJUUrnDp",
        "colab_type": "code",
        "colab": {}
      },
      "source": [
        "from sklearn.utils.testing import ignore_warnings\n",
        "from sklearn.exceptions import ConvergenceWarning\n",
        "\n",
        "@ignore_warnings(category=ConvergenceWarning)\n",
        "\n",
        "def svm(xTrain, yTrain, xVal, yVal, exp_C):\n",
        "  sv_clf = SVC(C = 10**(exp[exp_C]), kernel = 'rbf', gamma = 'auto')\n",
        "  sv_clf.fit(xTrain, yTrain)\n",
        "\n",
        "  pred_trainY = sv_clf.predict(xTrain)\n",
        "  pred_valY = sv_clf.predict(validationX)\n",
        "  \n",
        "  train_ac = accuracy_score(yTrain, pred_train_Y)\n",
        "  val_ac = accuracy_score(yVal, pred_val_Y)\n",
        "  return val_ac, train_ac"
      ],
      "execution_count": null,
      "outputs": []
    },
    {
      "cell_type": "code",
      "metadata": {
        "id": "a0sGSm3bIhSP",
        "colab_type": "code",
        "colab": {}
      },
      "source": [
        "from sklearn.svm import SVC\n",
        "\n",
        "train_ac = []\n",
        "val_ac = []\n",
        "max_val_ac = 0\n",
        "max_val_ac_C = 0\n",
        "C_min = -3\n",
        "C_max = 3\n",
        "\n",
        "exp = np.linspace(C_min, C_max, 50)\n",
        "\n",
        "for i in tqdm(range(len(exp))):\n",
        "  prec_val, prec_train = svm(xTrain, yTrain, xVal, yVal, i)\n",
        "\n",
        "  train_ac.append(prec_train)\n",
        "  val_ac.append(prec_val)\n",
        "  if prec_val > max_val_ac:\n",
        "    max_val_ac = prec_val\n",
        "    sv_best_clf = sv_clf\n",
        "    max_val_ac_C = exp[i]\n",
        "\n",
        "print(\"Precisión a partir de un entrenamiento con:\")\n",
        "print(\"->Regularización C:\",max_val_ac_C,\". Validación:\", max_val_ac)\n",
        "\n",
        "fig, ax = plt.subplots()\n",
        "ax.plot(exp, train_ac, label='Entrenamiento')\n",
        "ax.plot(exp, val_ac, label='Validación')\n",
        "ax.legend()\n",
        "plt.xlabel(\"Regularización, log_10(C)\")\n",
        "plt.ylabel(\"Precisión\")\n",
        "plt.title(\"Entrenamiento de modelo SVM con kernel gaussiano\")"
      ],
      "execution_count": null,
      "outputs": []
    },
    {
      "cell_type": "code",
      "metadata": {
        "id": "6YigAotKtXNd",
        "colab_type": "code",
        "colab": {}
      },
      "source": [
        ""
      ],
      "execution_count": null,
      "outputs": []
    }
  ]
}